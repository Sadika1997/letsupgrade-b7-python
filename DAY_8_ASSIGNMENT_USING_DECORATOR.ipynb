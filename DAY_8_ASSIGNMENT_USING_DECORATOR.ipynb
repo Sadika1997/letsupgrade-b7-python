{
 "cells": [
  {
   "cell_type": "code",
   "execution_count": null,
   "metadata": {},
   "outputs": [],
   "source": [
    "# def smart_fibo(num):\n",
    "\n",
    "#decorators(ex:1)\n",
    "    def Fibonacci(n):\n",
    "        \n",
    "        if n<=0:\n",
    "            print(\"Incorrect input\")\n",
    "    \n",
    "        elif n==1:\n",
    "            return 0\n",
    "\n",
    "        elif n==2:\n",
    "            return 1\n",
    "        else:\n",
    "            \n",
    "            return Fibonacci(n-1)+Fibonacci(n-2)\n",
    "            return num(n)\n",
    "    return Fibonacci\n",
    "\n",
    "\n",
    "\n",
    "\n",
    "\n",
    "\n",
    "    "
   ]
  },
  {
   "cell_type": "code",
   "execution_count": 5,
   "metadata": {},
   "outputs": [],
   "source": [
    "@smart_fibo\n",
    "def fibo(n):\n",
    "    print(\"The number is\",n)"
   ]
  },
  {
   "cell_type": "code",
   "execution_count": 6,
   "metadata": {},
   "outputs": [
    {
     "data": {
      "text/plain": [
       "21"
      ]
     },
     "execution_count": 6,
     "metadata": {},
     "output_type": "execute_result"
    }
   ],
   "source": [
    "fibo(9)"
   ]
  },
  {
   "cell_type": "code",
   "execution_count": 7,
   "metadata": {},
   "outputs": [],
   "source": [
    "arr = []"
   ]
  },
  {
   "cell_type": "code",
   "execution_count": 8,
   "metadata": {},
   "outputs": [],
   "source": [
    "def getInput(calculate_arg_fun):\n",
    "    def wrap_function():\n",
    "        print(\"Hey people enter two numbers =\")\n",
    "        a = int(input(\"Enter your upper limit - \"))\n",
    "        b = int(input(\"Enter your lower limit - \"))\n",
    "        for i in range(a,b):\n",
    "            calculate_arg_fun(i)   \n",
    "    return wrap_function"
   ]
  },
  {
   "cell_type": "code",
   "execution_count": 10,
   "metadata": {},
   "outputs": [],
   "source": [
    "@getInput\n",
    "def prime(num):\n",
    "    check = 0\n",
    "    for y in range(2,num):\n",
    "        if num%y == 0 :\n",
    "            check+=1\n",
    "    if check==0 and num != 1:\n",
    "        arr.append(num)"
   ]
  },
  {
   "cell_type": "code",
   "execution_count": 11,
   "metadata": {},
   "outputs": [
    {
     "name": "stdout",
     "output_type": "stream",
     "text": [
      "Hey people enter two numbers =\n",
      "Enter your upper limit - 1\n",
      "Enter your lower limit - 201\n"
     ]
    }
   ],
   "source": [
    "prime()"
   ]
  },
  {
   "cell_type": "markdown",
   "metadata": {},
   "source": [
    "# Execption Handling"
   ]
  },
  {
   "cell_type": "code",
   "execution_count": 13,
   "metadata": {},
   "outputs": [
    {
     "name": "stdout",
     "output_type": "stream",
     "text": [
      "Writing test.txt\n"
     ]
    }
   ],
   "source": [
    "%%writefile test.txt\n",
    "\n",
    "This is the test file for the exception handling in python for the python course in letsupgrade Batch 7."
   ]
  },
  {
   "cell_type": "code",
   "execution_count": 14,
   "metadata": {},
   "outputs": [
    {
     "data": {
      "text/plain": [
       "'\\nThis is the test file for the exception handling in python for the python course in letsupgrade Batch 7.\\n'"
      ]
     },
     "execution_count": 14,
     "metadata": {},
     "output_type": "execute_result"
    }
   ],
   "source": [
    "f = open(\"test.txt\",'r')\n",
    "f.read()"
   ]
  },
  {
   "cell_type": "code",
   "execution_count": 15,
   "metadata": {},
   "outputs": [
    {
     "name": "stdout",
     "output_type": "stream",
     "text": [
      "unable to write to file due to the read mode of file\n"
     ]
    }
   ],
   "source": [
    "try:\n",
    "    f.write(\"my first file\\n\")\n",
    "except:\n",
    "    print(\"unable to write to file due to the read mode of file\")\n",
    "finally:\n",
    "    f.close()"
   ]
  },
  {
   "cell_type": "code",
   "execution_count": null,
   "metadata": {},
   "outputs": [],
   "source": []
  }
 ],
 "metadata": {
  "kernelspec": {
   "display_name": "Python 3",
   "language": "python",
   "name": "python3"
  },
  "language_info": {
   "codemirror_mode": {
    "name": "ipython",
    "version": 3
   },
   "file_extension": ".py",
   "mimetype": "text/x-python",
   "name": "python",
   "nbconvert_exporter": "python",
   "pygments_lexer": "ipython3",
   "version": "3.8.3"
  }
 },
 "nbformat": 4,
 "nbformat_minor": 4
}
